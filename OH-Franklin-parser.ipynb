{
 "cells": [
  {
   "cell_type": "code",
   "execution_count": 1,
   "metadata": {},
   "outputs": [],
   "source": [
    "from slugify import slugify    # External dependency. See requirements.txt\n",
    "\n",
    "import configuration        # Local configuration file configuration.py\n",
    "\n",
    "from collections import OrderedDict\n",
    "import csv\n",
    "import os\n",
    "import datetime\n",
    "import decimal"
   ]
  },
  {
   "cell_type": "code",
   "execution_count": null,
   "metadata": {},
   "outputs": [],
   "source": [
    "\"\"\"\n",
    "To-do:\n",
    "\n",
    "Download via SFTP with password stored secretly in other file\n",
    "Save into snapshotsdir\n",
    "Output to elex-CSV format\n",
    "Put into run-everything script\n",
    "Build Sheet from interim CSV\n",
    "\n",
    "\n",
    "\"\"\""
   ]
  },
  {
   "cell_type": "code",
   "execution_count": null,
   "metadata": {},
   "outputs": [],
   "source": [
    "countyname = \"OH-Franklin\"\n",
    "snapshotsdir = configuration.snapshotsdir\n",
    "targetdir = configuration.targetdir\n",
    "filename = configuration.filename\n",
    "electiondate = configuration.electiondate\n",
    "timestamp = datetime.datetime.strftime(rawtime, \"%Y%m%d-%H%M%S\")\n",
    "lastupdated = datetime.datetime.strftime(rawtime, \"%Y-%m-%dT%H:%M:%S\")\n",
    "filepath = snapshotsdir + slugify(countyname) + \"/\" + timestamp + \"/\"\n",
    "targetfilename = targetdir + \"70-\" + slugify(countyname) + \".csv\"\n",
    "os.makedirs(targetdir, exist_ok=True)"
   ]
  },
  {
   "cell_type": "code",
   "execution_count": null,
   "metadata": {},
   "outputs": [],
   "source": [
    "# Let's keep \"Write-in\" here, but flag per tradition to drop in middleware.\n",
    "\n",
    "candidatesunwanted = [\n",
    "    \"BALLLOTS CAST - TOTAL\",\n",
    "    \"BALLOTS CAST - BLANK\",\n",
    "    \"REGISTERED VOTERS - TOTAL\",\n",
    "    \"Under votes\",\n",
    "    \"Over votes\"\n",
    "]"
   ]
  },
  {
   "cell_type": "code",
   "execution_count": 2,
   "metadata": {},
   "outputs": [],
   "source": [
    "with open(\"19GOHFRA.ASC\", \"r\") as f:\n",
    "    rows = f.readlines()"
   ]
  },
  {
   "cell_type": "code",
   "execution_count": 29,
   "metadata": {},
   "outputs": [
    {
     "name": "stdout",
     "output_type": "stream",
     "text": [
      "Test at regex101.com:\r\n",
      "\t\t(.{4})(.{3})(.{4})(.{6})(.{6})(.{6})(.{6})(.{6})(.{60})(.{3})(.{3})(.{4})(.{56})(.{38})(.{30})(.{25})(.{2})(.{1})\n"
     ]
    }
   ],
   "source": [
    "# Preview your column widths easier with regex101.com -- makes it so much easier\n",
    "\n",
    "headers = OrderedDict([\n",
    "    (\"contestnumber\", 4),\n",
    "    (\"candidatenumber\", 3),\n",
    "    (\"precinctcode\", 4),\n",
    "    #(\"registeredvoterscount\", 6),\n",
    "    (\"totalvotes\", 6),\n",
    "    (\"votesgroup1abspaper\", 6),\n",
    "    (\"votesgroup2absivo\", 6),\n",
    "    (\"votesgroup3edaypaper\", 6),\n",
    "    (\"votesgroup4edayivo\", 6),\n",
    "    (\"votesgroup5notusedignore\", 60),\n",
    "    (\"partycode\", 3),\n",
    "    (\"districttypeid\", 3),\n",
    "    (\"districtcode\", 4),\n",
    "    (\"contesttitle\", 56),\n",
    "    (\"candidatename\", 38),\n",
    "    (\"precinctname\", 30),\n",
    "    (\"districtname\", 25),\n",
    "    (\"votesfor\", 2),\n",
    "    (\"referendum\", 1)\n",
    "    ])\n",
    "\n",
    "myregex = \"\"\n",
    "for item in headers:\n",
    "    myregex += \"(.{\" + str(headers[item]) + \"})\"\n",
    "print(\"Test at regex101.com:\\r\\n\\t\\t\" + myregex)\n"
   ]
  },
  {
   "cell_type": "code",
   "execution_count": 30,
   "metadata": {},
   "outputs": [
    {
     "name": "stdout",
     "output_type": "stream",
     "text": [
      "How your stuff lines up, with starting position of 1:\n",
      "contestnumber              1\t4\n",
      "candidatenumber            5\t7\n",
      "precinctcode               8\t11\n",
      "totalvotes                 12\t17\n",
      "votesgroup1abspaper        18\t23\n",
      "votesgroup2absivo          24\t29\n",
      "votesgroup3edaypaper       30\t35\n",
      "votesgroup4edayivo         36\t41\n",
      "votesgroup5notusedignore   42\t101\n",
      "partycode                  102\t104\n",
      "districttypeid             105\t107\n",
      "districtcode               108\t111\n",
      "contesttitle               112\t167\n",
      "candidatename              168\t205\n",
      "precinctname               206\t235\n",
      "districtname               236\t260\n",
      "votesfor                   261\t262\n",
      "referendum                 263\t263\n"
     ]
    }
   ],
   "source": [
    "index = 1\n",
    "print(\"How your stuff lines up, with starting position of 1:\")\n",
    "largestitem = 0\n",
    "for item in headers:\n",
    "    if len(item) > largestitem:\n",
    "        largestitem = len(item)\n",
    "for item in headers:\n",
    "    print(f\"{item}{((largestitem - len(item)) + 3) * ' '}{index}\\t{headers[item] - 1 + index}\")\n",
    "    index += headers[item]"
   ]
  },
  {
   "cell_type": "code",
   "execution_count": 31,
   "metadata": {},
   "outputs": [],
   "source": [
    "rawlist = []\n",
    "for row in rows:\n",
    "    line = OrderedDict()\n",
    "    counter = 0\n",
    "    for item in headers:\n",
    "        line[item] = row[counter:headers[item]+counter].strip()\n",
    "        counter += headers[item]\n",
    "    rawlist.append(line)"
   ]
  },
  {
   "cell_type": "code",
   "execution_count": 32,
   "metadata": {},
   "outputs": [],
   "source": [
    "with open(\"OH-Franklin-report.csv\", \"w\", newline=\"\") as f:\n",
    "    writer = csv.writer(f)\n",
    "    writer.writerow(list(headers.keys()))\n",
    "    for row in rawlist:\n",
    "        writer.writerow(list(row.values()))"
   ]
  },
  {
   "cell_type": "code",
   "execution_count": 33,
   "metadata": {},
   "outputs": [
    {
     "data": {
      "text/plain": [
       "'00010010001000000000000000000000000000000000000000000000000000000000000000000000000000000000000000000          REGISTERED VOTERS - TOTAL                               REGISTERED VOTERS - TOTAL             COLUMBUS 01-A                                          00 \\n'"
      ]
     },
     "execution_count": 33,
     "metadata": {},
     "output_type": "execute_result"
    }
   ],
   "source": [
    "getcontext().prec = 10      # Precision\n",
    "\n",
    "lineheaders = [\"id\", \"raceid\", \"racetype\", \"racetypeid\", \"ballotorder\", \"candidateid\", \"description\",\n",
    "               \"delegatecount\", \"electiondate\", \"electtotal\", \"electwon\", \"fipscode\", \"first\", \"incumbent\",\n",
    "               \"initialization_data\", \"is_ballot_measure\", \"last\", \"lastupdated\", \"level\", \"national\",\n",
    "               \"officeid\", \"officename\", \"party\", \"polid\", \"polnum\", \"precinctsreporting\", \"precinctsreportingpct\",\n",
    "               \"precinctstotal\", \"reportingunitid\", \"reportingunitname\", \"runoff\", \"seatname\",\n",
    "               \"seatnum\", \"statename\", \"statepostal\", \"test\", \"uncontested\", \"votecount\", \"votepct\", \"winner\"\n",
    "               ]"
   ]
  },
  {
   "cell_type": "code",
   "execution_count": 34,
   "metadata": {},
   "outputs": [
    {
     "data": {
      "text/plain": [
       "odict_keys(['contestnumber', 'candidatenumber', 'precinctcode', 'totalvotes', 'votesgroup1abspaper', 'votesgroup2absivo', 'votesgroup3edaypaper', 'votesgroup4edayivo', 'votesgroup5notusedignore', 'partycode', 'districttypeid', 'districtcode', 'contesttitle', 'candidatename', 'precinctname', 'districtname', 'votesfor', 'referendum'])"
      ]
     },
     "execution_count": 34,
     "metadata": {},
     "output_type": "execute_result"
    }
   ],
   "source": [
    "rawlist[0].keys()"
   ]
  },
  {
   "cell_type": "code",
   "execution_count": 10,
   "metadata": {},
   "outputs": [
    {
     "data": {
      "text/plain": [
       "264"
      ]
     },
     "execution_count": 10,
     "metadata": {},
     "output_type": "execute_result"
    }
   ],
   "source": [
    "masterlist = []\n",
    "racevotes = {}\n",
    "crosswalk = {\n",
    "    \"totalvotes\": \"votecount\",\n",
    "    \"contestnumber\": \"ballotorder\",\n",
    "    \"contesttitle\": \"officename\"\n",
    "#    \"line number\": \"ballotorder\",\n",
    "#    \"party name\": \"party\",\n",
    "#    \"total votes\": \"votecount\",\n",
    "#    \"percent of votes\": \"votepct\",\n",
    "#    \"ballots cast\": \"electtotal\"\n",
    "    }\n"
   ]
  },
  {
   "cell_type": "code",
   "execution_count": null,
   "metadata": {},
   "outputs": [],
   "source": [
    "for row in rawlist:\n",
    "    if row[\"candidatename\"] not in candidatesunwanted:\n",
    "        line = OrderedDict()\n",
    "        for item in lineheaders:\n",
    "            line[item] = \"\"\n",
    "        for source in crosswalk:\n",
    "            line[crosswalk[source]] = row[source]\n",
    "        peep = row['candidatename'].replace('\\'\\'', '\\'').strip()   # Replace double single quotes\n",
    "        if \" \" not in peep:          # Handle single-word candidates like \"YES\"\n",
    "            line['first'] = peep\n",
    "            line['last'] = \"\"\n",
    "        else:\n",
    "            line['first'] = peep[:peep.rfind(\" \")].strip()     # First name is everything until the last space\n",
    "            line['last'] = peep[peep.rfind(\" \"):].strip()      # Last name is everything after the last space\n",
    "        line[\"raceid\"] = slugify(countyname + \" \" + row['contesttitle'])\n",
    "        line[\"candidateid\"] = slugify(\"-\".join([line['raceid'], line[\"first\"], line[\"last\"]]))\n",
    "        if line[\"raceid\"] not in racevotes:\n",
    "            racevotes[line[\"raceid\"]] = 0\n",
    "        racevotes[line[\"raceid\"]] += int(line[\"votecount\"])\n",
    "        line['reportingunitid'] = slugify(countyname + \"-\" + row['precinctname'])\n",
    "        line['reportingunitname'] = countyname + \": \" + row['precinctname']\n",
    "        line['electiondate'] = electiondate\n",
    "        line['lastupdated'] = lastupdated\n",
    "        line['level'] = \"subunit\"\n",
    "        line['id'] = slugify(line['raceid'] + \" \" + line['reportingunitid'])\n",
    "        masterlist.append(line)\n",
    "        \n",
    "for i, line in enumerate(masterlist):\n",
    "    masterlist[i][\"electtotal\"] = racevotes[line[\"raceid\"]]\n",
    "\n",
    "\n",
    "for i, line in enumerate(masterlist):\n",
    "    if line[\"votepct\"] != \"0\" and line['votepct'] != \"\":\n",
    "        masterlist[i][\"votepct\"] = Decimal(line[\"votecount\"])/(100 * line['electtotal']    # Number isn't a percentage; ranges from 0 to 1.\n"
   ]
  },
  {
   "cell_type": "code",
   "execution_count": null,
   "metadata": {},
   "outputs": [],
   "source": [
    "with open(targetfilename, \"w\", newline=\"\") as f:\n",
    "    writer = csv.writer(f)\n",
    "    writer.writerow(lineheaders)\n",
    "    for row in masterlist:\n",
    "        writer.writerow(list(row.values()))\n",
    "print(f\"Done parsing out {countyname} to {targetfilename}\")\n"
   ]
  }
 ],
 "metadata": {
  "kernelspec": {
   "display_name": "Python 3",
   "language": "python",
   "name": "python3"
  },
  "language_info": {
   "codemirror_mode": {
    "name": "ipython",
    "version": 3
   },
   "file_extension": ".py",
   "mimetype": "text/x-python",
   "name": "python",
   "nbconvert_exporter": "python",
   "pygments_lexer": "ipython3",
   "version": "3.7.2"
  }
 },
 "nbformat": 4,
 "nbformat_minor": 2
}
