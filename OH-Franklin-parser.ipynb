{
 "cells": [
  {
   "cell_type": "code",
   "execution_count": 1,
   "metadata": {},
   "outputs": [],
   "source": [
    "from collections import OrderedDict\n",
    "import csv"
   ]
  },
  {
   "cell_type": "code",
   "execution_count": 2,
   "metadata": {},
   "outputs": [],
   "source": [
    "with open(\"19GOHFRA.ASC\", \"r\") as f:\n",
    "    rows = f.readlines()"
   ]
  },
  {
   "cell_type": "code",
   "execution_count": 29,
   "metadata": {},
   "outputs": [
    {
     "name": "stdout",
     "output_type": "stream",
     "text": [
      "Test at regex101.com:\r\n",
      "\t\t(.{4})(.{3})(.{4})(.{6})(.{6})(.{6})(.{6})(.{6})(.{60})(.{3})(.{3})(.{4})(.{56})(.{38})(.{30})(.{25})(.{2})(.{1})\n"
     ]
    }
   ],
   "source": [
    "# Preview your column widths easier with regex101.com -- makes it so much easier\n",
    "\n",
    "headers = OrderedDict([\n",
    "    (\"contestnumber\", 4),\n",
    "    (\"candidatenumber\", 3),\n",
    "    (\"precinctcode\", 4),\n",
    "    #(\"registeredvoterscount\", 6),\n",
    "    (\"totalvotes\", 6),\n",
    "    (\"votesgroup1abspaper\", 6),\n",
    "    (\"votesgroup2absivo\", 6),\n",
    "    (\"votesgroup3edaypaper\", 6),\n",
    "    (\"votesgroup4edayivo\", 6),\n",
    "    (\"votesgroup5notusedignore\", 60),\n",
    "    (\"partycode\", 3),\n",
    "    (\"districttypeid\", 3),\n",
    "    (\"districtcode\", 4),\n",
    "    (\"contesttitle\", 56),\n",
    "    (\"candidatename\", 38),\n",
    "    (\"precinctname\", 30),\n",
    "    (\"districtname\", 25),\n",
    "    (\"votesfor\", 2),\n",
    "    (\"referendum\", 1)\n",
    "    ])\n",
    "\n",
    "myregex = \"\"\n",
    "for item in headers:\n",
    "    myregex += \"(.{\" + str(headers[item]) + \"})\"\n",
    "print(\"Test at regex101.com:\\r\\n\\t\\t\" + myregex)\n"
   ]
  },
  {
   "cell_type": "code",
   "execution_count": 30,
   "metadata": {},
   "outputs": [
    {
     "name": "stdout",
     "output_type": "stream",
     "text": [
      "How your stuff lines up, with starting position of 1:\n",
      "contestnumber              1\t4\n",
      "candidatenumber            5\t7\n",
      "precinctcode               8\t11\n",
      "totalvotes                 12\t17\n",
      "votesgroup1abspaper        18\t23\n",
      "votesgroup2absivo          24\t29\n",
      "votesgroup3edaypaper       30\t35\n",
      "votesgroup4edayivo         36\t41\n",
      "votesgroup5notusedignore   42\t101\n",
      "partycode                  102\t104\n",
      "districttypeid             105\t107\n",
      "districtcode               108\t111\n",
      "contesttitle               112\t167\n",
      "candidatename              168\t205\n",
      "precinctname               206\t235\n",
      "districtname               236\t260\n",
      "votesfor                   261\t262\n",
      "referendum                 263\t263\n"
     ]
    }
   ],
   "source": [
    "index = 1\n",
    "print(\"How your stuff lines up, with starting position of 1:\")\n",
    "largestitem = 0\n",
    "for item in headers:\n",
    "    if len(item) > largestitem:\n",
    "        largestitem = len(item)\n",
    "for item in headers:\n",
    "    print(f\"{item}{((largestitem - len(item)) + 3) * ' '}{index}\\t{headers[item] - 1 + index}\")\n",
    "    index += headers[item]"
   ]
  },
  {
   "cell_type": "code",
   "execution_count": 31,
   "metadata": {},
   "outputs": [],
   "source": [
    "masterlist = []\n",
    "for row in rows:\n",
    "    line = OrderedDict()\n",
    "    counter = 0\n",
    "    for item in headers:\n",
    "        line[item] = row[counter:headers[item]+counter].strip()\n",
    "        counter += headers[item]\n",
    "    masterlist.append(line)"
   ]
  },
  {
   "cell_type": "code",
   "execution_count": 32,
   "metadata": {},
   "outputs": [],
   "source": [
    "with open(\"OH-Franklin-report.csv\", \"w\", newline=\"\") as f:\n",
    "    writer = csv.writer(f)\n",
    "    writer.writerow(list(headers.keys()))\n",
    "    for row in masterlist:\n",
    "        writer.writerow(list(row.values()))"
   ]
  },
  {
   "cell_type": "code",
   "execution_count": 33,
   "metadata": {},
   "outputs": [
    {
     "data": {
      "text/plain": [
       "'00010010001000000000000000000000000000000000000000000000000000000000000000000000000000000000000000000          REGISTERED VOTERS - TOTAL                               REGISTERED VOTERS - TOTAL             COLUMBUS 01-A                                          00 \\n'"
      ]
     },
     "execution_count": 33,
     "metadata": {},
     "output_type": "execute_result"
    }
   ],
   "source": []
  },
  {
   "cell_type": "code",
   "execution_count": 10,
   "metadata": {},
   "outputs": [
    {
     "data": {
      "text/plain": [
       "264"
      ]
     },
     "execution_count": 10,
     "metadata": {},
     "output_type": "execute_result"
    }
   ],
   "source": []
  },
  {
   "cell_type": "code",
   "execution_count": null,
   "metadata": {},
   "outputs": [],
   "source": []
  }
 ],
 "metadata": {
  "kernelspec": {
   "display_name": "Python 3",
   "language": "python",
   "name": "python3"
  },
  "language_info": {
   "codemirror_mode": {
    "name": "ipython",
    "version": 3
   },
   "file_extension": ".py",
   "mimetype": "text/x-python",
   "name": "python",
   "nbconvert_exporter": "python",
   "pygments_lexer": "ipython3",
   "version": "3.7.2"
  }
 },
 "nbformat": 4,
 "nbformat_minor": 2
}
