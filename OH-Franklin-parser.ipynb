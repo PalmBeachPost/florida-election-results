{
 "cells": [
  {
   "cell_type": "code",
   "execution_count": 1,
   "metadata": {},
   "outputs": [],
   "source": [
    "from slugify import slugify    # External dependency. See requirements.txt\n",
    "import pysftp\n",
    "import paramiko\n",
    "\n",
    "import configuration        # Local configuration file configuration.py\n",
    "exec(open(\"./OH-Franklin-creds.py\").read())     # Local config file just for this\n",
    "\n",
    "from collections import OrderedDict\n",
    "import csv\n",
    "import os\n",
    "import datetime\n",
    "from decimal import *"
   ]
  },
  {
   "cell_type": "code",
   "execution_count": 2,
   "metadata": {},
   "outputs": [
    {
     "data": {
      "text/plain": [
       "'\\nTo-do:\\n\\nDownload via SFTP with password stored secretly in other file\\nSave into snapshotsdir\\nOutput to elex-CSV format\\nPut into run-everything script\\nBuild Sheet from interim CSV\\n\\n\\n'"
      ]
     },
     "execution_count": 2,
     "metadata": {},
     "output_type": "execute_result"
    }
   ],
   "source": [
    "\"\"\"\n",
    "To-do:\n",
    "\n",
    "Download via SFTP with password stored secretly in other file\n",
    "Save into snapshotsdir\n",
    "Output to elex-CSV format\n",
    "Put into run-everything script\n",
    "Build Sheet from interim CSV\n",
    "\n",
    "\n",
    "\"\"\""
   ]
  },
  {
   "cell_type": "code",
   "execution_count": 3,
   "metadata": {},
   "outputs": [],
   "source": [
    "countyname = \"OH-Franklin\"\n",
    "rawtime = datetime.datetime.now()\n",
    "snapshotsdir = configuration.snapshotsdir\n",
    "targetdir = configuration.targetdir\n",
    "filename = configuration.filename\n",
    "electiondate = configuration.electiondate\n",
    "timestamp = datetime.datetime.strftime(rawtime, \"%Y%m%d-%H%M%S\")\n",
    "lastupdated = datetime.datetime.strftime(rawtime, \"%Y-%m-%dT%H:%M:%S\")\n",
    "filepath = snapshotsdir + slugify(countyname) + \"/\" + timestamp + \"/\"\n",
    "targetfilename = targetdir + \"70-\" + slugify(countyname) + \".csv\"\n",
    "os.makedirs(targetdir, exist_ok=True)"
   ]
  },
  {
   "cell_type": "code",
   "execution_count": 4,
   "metadata": {},
   "outputs": [],
   "source": [
    "hostname = creds['hostname']\n",
    "password = creds['password']\n",
    "username = creds['username']"
   ]
  },
  {
   "cell_type": "code",
   "execution_count": 14,
   "metadata": {},
   "outputs": [
    {
     "data": {
      "text/plain": [
       "'\\n# Save a key: Open up psftp manually with the credentials\\n\\n# disable key caching\\ncnopts = pysftp.CnOpts()\\n# franklinkey = b\\'0x23,0xb4a35b40c80bf0bc49f10288bc973f8140b2bfcc43323e146eb6a25a0e53a584afed10a0a0f96b422926570f586126d76a8a4531e19d83699fdfde3d109f04c4027aecaf33e525964413f2dd938f8d38f9f6d21bfe0ecebb6d87eeecc29d959ddf846eebf877e1c1a5c145b7ed3dd50826d8cea033c24dca532977c33fa7d54b\\'\\n#key = paramiko.RSAKey(data=franklinkey)\\n# cnopts.hostkeys = None\\n\\n# print(f\"sftp {username}@{hostname}\")\\n\\n\\nwith pysftp.Connection(hostname, username=username, password=password, cnopts=cnopts) as sftp:\\n    cwd = sftp.getcwd()\\n    remotefiles = sftp.listdir(\".\")\\n\\n'"
      ]
     },
     "execution_count": 14,
     "metadata": {},
     "output_type": "execute_result"
    }
   ],
   "source": [
    "\"\"\"\n",
    "# Save a key: Open up psftp manually with the credentials\n",
    "\n",
    "# disable key caching\n",
    "cnopts = pysftp.CnOpts()\n",
    "# franklinkey = b'0x23,0xb4a35b40c80bf0bc49f10288bc973f8140b2bfcc43323e146eb6a25a0e53a584afed10a0a0f96b422926570f586126d76a8a4531e19d83699fdfde3d109f04c4027aecaf33e525964413f2dd938f8d38f9f6d21bfe0ecebb6d87eeecc29d959ddf846eebf877e1c1a5c145b7ed3dd50826d8cea033c24dca532977c33fa7d54b'\n",
    "#key = paramiko.RSAKey(data=franklinkey)\n",
    "# cnopts.hostkeys = None\n",
    "\n",
    "# print(f\"sftp {username}@{hostname}\")\n",
    "\n",
    "\n",
    "with pysftp.Connection(hostname, username=username, password=password, cnopts=cnopts) as sftp:\n",
    "    cwd = sftp.getcwd()\n",
    "    remotefiles = sftp.listdir(\".\")\n",
    "\n",
    "\"\"\""
   ]
  },
  {
   "cell_type": "raw",
   "metadata": {},
   "source": [
    "paramiko.Transport._preferred_kex = ('diffie-hellman-group-exchange-sha256',\n",
    "                                     'diffie-hellman-group14-sha256',\n",
    "                                     'diffie-hellman-group-exchange-sha1',\n",
    "                                     'diffie-hellman-group14-sha1',\n",
    "                                     'diffie-hellman-group1-sha1')\n",
    "\n",
    "# "
   ]
  },
  {
   "cell_type": "raw",
   "metadata": {},
   "source": [
    "transport = paramiko.Transport((hostname))\n",
    "transport.connect(None,username=username,password=password)\n",
    "sftp = paramiko.SFTPClient.from_transport(transport)\n",
    "remotefiles = sftp.listdir_attr()\n",
    "sftp.close()"
   ]
  },
  {
   "cell_type": "code",
   "execution_count": null,
   "metadata": {},
   "outputs": [],
   "source": []
  },
  {
   "cell_type": "code",
   "execution_count": null,
   "metadata": {},
   "outputs": [],
   "source": []
  },
  {
   "cell_type": "code",
   "execution_count": null,
   "metadata": {},
   "outputs": [],
   "source": [
    "# Let's keep \"Write-in\" here, but flag per tradition to drop in middleware.\n",
    "\n",
    "candidatesunwanted = [\n",
    "    \"BALLOTS CAST - TOTAL\",\n",
    "    \"BALLOTS CAST - BLANK\",\n",
    "    \"REGISTERED VOTERS - TOTAL\",\n",
    "    \"UNDER VOTES\",\n",
    "    \"OVER VOTES\"\n",
    "]"
   ]
  },
  {
   "cell_type": "code",
   "execution_count": null,
   "metadata": {},
   "outputs": [],
   "source": [
    "with open(\"19GOHFRA.ASC\", \"r\") as f:\n",
    "    rows = f.readlines()"
   ]
  },
  {
   "cell_type": "code",
   "execution_count": null,
   "metadata": {},
   "outputs": [],
   "source": [
    "# Preview your column widths easier with regex101.com -- makes it so much easier\n",
    "\n",
    "headers = OrderedDict([\n",
    "    (\"contestnumber\", 4),\n",
    "    (\"candidatenumber\", 3),\n",
    "    (\"precinctcode\", 4),\n",
    "    #(\"registeredvoterscount\", 6),\n",
    "    (\"totalvotes\", 6),\n",
    "    (\"votesgroup1abspaper\", 6),\n",
    "    (\"votesgroup2absivo\", 6),\n",
    "    (\"votesgroup3edaypaper\", 6),\n",
    "    (\"votesgroup4edayivo\", 6),\n",
    "    (\"votesgroup5notusedignore\", 60),\n",
    "    (\"partycode\", 3),\n",
    "    (\"districttypeid\", 3),\n",
    "    (\"districtcode\", 4),\n",
    "    (\"contesttitle\", 56),\n",
    "    (\"candidatename\", 38),\n",
    "    (\"precinctname\", 30),\n",
    "    (\"districtname\", 25),\n",
    "    (\"votesfor\", 2),\n",
    "    (\"referendum\", 1)\n",
    "    ])\n",
    "\n",
    "myregex = \"\"\n",
    "for item in headers:\n",
    "    myregex += \"(.{\" + str(headers[item]) + \"})\"\n",
    "print(\"Test at regex101.com:\\r\\n\\t\\t\" + myregex)\n"
   ]
  },
  {
   "cell_type": "code",
   "execution_count": null,
   "metadata": {},
   "outputs": [],
   "source": [
    "index = 1\n",
    "print(\"How your stuff lines up, with starting position of 1:\")\n",
    "largestitem = 0\n",
    "for item in headers:\n",
    "    if len(item) > largestitem:\n",
    "        largestitem = len(item)\n",
    "for item in headers:\n",
    "    print(f\"{item}{((largestitem - len(item)) + 3) * ' '}{index}\\t{headers[item] - 1 + index}\")\n",
    "    index += headers[item]"
   ]
  },
  {
   "cell_type": "code",
   "execution_count": null,
   "metadata": {},
   "outputs": [],
   "source": [
    "rawlist = []\n",
    "for row in rows:\n",
    "    line = OrderedDict()\n",
    "    counter = 0\n",
    "    for item in headers:\n",
    "        line[item] = row[counter:headers[item]+counter].strip()\n",
    "        counter += headers[item]\n",
    "    rawlist.append(line)"
   ]
  },
  {
   "cell_type": "code",
   "execution_count": null,
   "metadata": {},
   "outputs": [],
   "source": [
    "with open(\"OH-Franklin-report.csv\", \"w\", newline=\"\") as f:\n",
    "    writer = csv.writer(f)\n",
    "    writer.writerow(list(headers.keys()))\n",
    "    for row in rawlist:\n",
    "        writer.writerow(list(row.values()))"
   ]
  },
  {
   "cell_type": "code",
   "execution_count": null,
   "metadata": {},
   "outputs": [],
   "source": [
    "getcontext().prec = 10      # Precision\n",
    "\n",
    "lineheaders = [\"id\", \"raceid\", \"racetype\", \"racetypeid\", \"ballotorder\", \"candidateid\", \"description\",\n",
    "               \"delegatecount\", \"electiondate\", \"electtotal\", \"electwon\", \"fipscode\", \"first\", \"incumbent\",\n",
    "               \"initialization_data\", \"is_ballot_measure\", \"last\", \"lastupdated\", \"level\", \"national\",\n",
    "               \"officeid\", \"officename\", \"party\", \"polid\", \"polnum\", \"precinctsreporting\", \"precinctsreportingpct\",\n",
    "               \"precinctstotal\", \"reportingunitid\", \"reportingunitname\", \"runoff\", \"seatname\",\n",
    "               \"seatnum\", \"statename\", \"statepostal\", \"test\", \"uncontested\", \"votecount\", \"votepct\", \"winner\"\n",
    "               ]"
   ]
  },
  {
   "cell_type": "code",
   "execution_count": null,
   "metadata": {},
   "outputs": [],
   "source": [
    "rawlist[0].keys()"
   ]
  },
  {
   "cell_type": "code",
   "execution_count": null,
   "metadata": {},
   "outputs": [],
   "source": [
    "masterlist = []\n",
    "racevotes = {}\n",
    "crosswalk = {\n",
    "    \"totalvotes\": \"votecount\",\n",
    "    \"contestnumber\": \"ballotorder\",\n",
    "    \"contesttitle\": \"officename\"\n",
    "#    \"line number\": \"ballotorder\",\n",
    "#    \"party name\": \"party\",\n",
    "#    \"total votes\": \"votecount\",\n",
    "#    \"percent of votes\": \"votepct\",\n",
    "#    \"ballots cast\": \"electtotal\"\n",
    "    }\n"
   ]
  },
  {
   "cell_type": "code",
   "execution_count": null,
   "metadata": {},
   "outputs": [],
   "source": [
    "for row in rawlist:\n",
    "    if row[\"candidatename\"] not in candidatesunwanted:\n",
    "        line = OrderedDict()\n",
    "        for item in lineheaders:\n",
    "            line[item] = \"\"\n",
    "        for source in crosswalk:\n",
    "            line[crosswalk[source]] = row[source]\n",
    "        peep = row['candidatename'].replace('\\'\\'', '\\'').strip()   # Replace double single quotes\n",
    "        if \" \" not in peep:          # Handle single-word candidates like \"YES\"\n",
    "            line['first'] = peep\n",
    "            line['last'] = \"\"\n",
    "        else:\n",
    "            line['first'] = peep[:peep.rfind(\" \")].strip()     # First name is everything until the last space\n",
    "            line['last'] = peep[peep.rfind(\" \"):].strip()      # Last name is everything after the last space\n",
    "        line[\"raceid\"] = slugify(countyname + \" \" + row['contesttitle'])\n",
    "        line[\"candidateid\"] = slugify(\"-\".join([line['raceid'], line[\"first\"], line[\"last\"]]))\n",
    "        if line[\"raceid\"] not in racevotes:\n",
    "            racevotes[line[\"raceid\"]] = 0\n",
    "        racevotes[line[\"raceid\"]] += int(line[\"votecount\"])\n",
    "        line['reportingunitid'] = countyname\n",
    "        line['reportingunitname'] = countyname + \": \" + row['precinctname']\n",
    "        line['electiondate'] = electiondate\n",
    "        line['lastupdated'] = lastupdated\n",
    "        line['level'] = \"subunit\"\n",
    "        line['id'] = slugify(line['raceid'] + \" \" + line['reportingunitid'])\n",
    "        masterlist.append(line)\n",
    "        \n",
    "for i, line in enumerate(masterlist):\n",
    "    masterlist[i][\"electtotal\"] = racevotes[line[\"raceid\"]]\n",
    "\n",
    "\n",
    "for i, line in enumerate(masterlist):\n",
    "    if line[\"votepct\"] != \"0\" and line['votepct'] != \"\":\n",
    "        masterlist[i][\"votepct\"] = Decimal(line[\"votecount\"])/(100 * line['electtotal'])    # Number isn't a percentage; ranges from 0 to 1.\n"
   ]
  },
  {
   "cell_type": "code",
   "execution_count": null,
   "metadata": {},
   "outputs": [],
   "source": [
    "with open(targetfilename, \"w\", newline=\"\") as f:\n",
    "    writer = csv.writer(f)\n",
    "    writer.writerow(lineheaders)\n",
    "    for row in masterlist:\n",
    "        writer.writerow(list(row.values()))\n",
    "print(f\"Done parsing out {countyname} to {targetfilename}\")\n"
   ]
  },
  {
   "cell_type": "code",
   "execution_count": null,
   "metadata": {},
   "outputs": [],
   "source": []
  },
  {
   "cell_type": "code",
   "execution_count": null,
   "metadata": {},
   "outputs": [],
   "source": []
  }
 ],
 "metadata": {
  "kernelspec": {
   "display_name": "Python 3",
   "language": "python",
   "name": "python3"
  },
  "language_info": {
   "codemirror_mode": {
    "name": "ipython",
    "version": 3
   },
   "file_extension": ".py",
   "mimetype": "text/x-python",
   "name": "python",
   "nbconvert_exporter": "python",
   "pygments_lexer": "ipython3",
   "version": "3.6.8"
  }
 },
 "nbformat": 4,
 "nbformat_minor": 2
}
